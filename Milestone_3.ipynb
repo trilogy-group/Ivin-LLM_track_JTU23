{
 "cells": [
  {
   "attachments": {},
   "cell_type": "markdown",
   "metadata": {},
   "source": [
    "# Milestone 3"
   ]
  },
  {
   "attachments": {},
   "cell_type": "markdown",
   "metadata": {},
   "source": [
    "### import and all prerequisite"
   ]
  },
  {
   "cell_type": "code",
   "execution_count": 13,
   "metadata": {},
   "outputs": [],
   "source": [
    "import os\n",
    "import openai\n",
    "import time\n",
    "\n",
    "from langchain.chat_models import ChatOpenAI\n",
    "from langchain import PromptTemplate, LLMChain\n",
    "from langchain.prompts.chat import (\n",
    "    ChatPromptTemplate,\n",
    "    SystemMessagePromptTemplate,\n",
    "    AIMessagePromptTemplate,\n",
    "    HumanMessagePromptTemplate,\n",
    ")\n",
    "from langchain.schema import (\n",
    "    AIMessage,\n",
    "    HumanMessage,\n",
    "    SystemMessage\n",
    ")\n",
    "\n",
    "chat = ChatOpenAI(temperature=0.5)"
   ]
  },
  {
   "attachments": {},
   "cell_type": "markdown",
   "metadata": {},
   "source": [
    "### Prompt Template"
   ]
  },
  {
   "cell_type": "code",
   "execution_count": 14,
   "metadata": {},
   "outputs": [],
   "source": [
    "template=\"I want you to debate with me. Initially you are a in favour of {input1} and disfavour of  {input2}. I will start the debate. You have to counter the points and make the reply not too long. We should reach a final agreement. You can change your initial opinions if you think my counters are valid. Dont hesitate to change your opinion.\"\n",
    "system_message_prompt = SystemMessagePromptTemplate.from_template(template)\n",
    "human_template=\"{text}\"\n",
    "human_message_prompt = HumanMessagePromptTemplate.from_template(human_template)\n",
    "\n",
    "chat_prompt = ChatPromptTemplate.from_messages([system_message_prompt, human_message_prompt])"
   ]
  },
  {
   "cell_type": "code",
   "execution_count": 15,
   "metadata": {},
   "outputs": [
    {
     "name": "stdout",
     "output_type": "stream",
     "text": [
      "ronaldo is just better.\n",
      "\n",
      "\n",
      "\n",
      "\n",
      "I disagree, Messi is the better player. He has won more Ballon d'Or awards than Ronaldo, indicating that he has been considered the best player in the world more times. Additionally, Messi's style of play is more creative and he has a better ability to dribble past opponents. Ronaldo may be a better scorer, but Messi is a more well-rounded player.\n",
      "\n",
      "\n",
      "\n",
      "\n",
      "I understand your point of view, but I have to disagree with you. Ronaldo has won the Ballon d'Or five times, which is only one less than Messi. Moreover, Ronaldo has won the UEFA Champions League five times, while Messi has won it four times. Ronaldo's ability to score goals is unmatched, and he has consistently been one of the top scorers in all competitions. Additionally, Ronaldo has played in three different leagues and has been successful in all of them, which shows his versatility as a player.\n",
      "\n",
      "\n",
      "\n",
      "\n",
      "I see your point, but I still believe Messi is the better player. While Ronaldo may have won the Ballon d'Or five times, Messi has won it six times, which is a record. Messi's dribbling skills and ability to create chances for his teammates are unmatched. He has consistently been the top scorer in La Liga and has broken multiple records in the process. Messi's loyalty to Barcelona also speaks to his character as a player, as he has stayed with the club for his entire career, unlike Ronaldo who has moved around multiple times. Additionally, Messi has won the Copa America with Argentina, which is a major international tournament that Ronaldo has yet to win with Portugal.\n",
      "\n",
      "\n",
      "\n",
      "\n",
      "I understand your points, but I still believe Ronaldo is the better player. While Messi may have won the Ballon d'Or more times, Ronaldo has won it in different leagues and with different teams, which shows his versatility and adaptability as a player. Ronaldo's physicality and athleticism allow him to score goals in a variety of ways, from headers to long-range shots. He has also won multiple Champions League titles with different teams, which is a testament to his ability to perform at the highest level. While Messi may have stayed loyal to Barcelona, Ronaldo's willingness to take on new challenges and succeed in different environments shows his ambition and drive as a player. Additionally, Ronaldo has won the European Championship with Portugal, which is a major international tournament that Messi has yet to win with Argentina.\n",
      "\n",
      "\n",
      "\n",
      "\n",
      "I see your point, but I still believe Messi is the better player. While Ronaldo's physicality and athleticism are impressive, Messi's technical skills and vision on the field are unparalleled. Messi has an incredible ability to control the ball and create opportunities for his teammates, making him a true team player. He also has an incredible scoring record, having scored over 700 goals in his career, many of which were scored in important matches. While Ronaldo has won the Ballon d'Or in different leagues, Messi has consistently performed at a high level in the same league, which shows his consistency and dedication to his team. Additionally, Messi has won multiple Copa America titles with Argentina, which is a major international tournament that Ronaldo has yet to win with Portugal. Overall, I believe Messi's technical skills, consistency, and team-oriented play make him the better player.\n",
      "\n",
      "\n",
      "\n",
      "\n",
      "I can see where you're coming from, but I still think Ronaldo is the better player. While Messi may have better technical skills, Ronaldo's athleticism and physicality give him an edge on the field. He has an incredible ability to jump and score headers, which is a rare skill in soccer. Ronaldo also has a strong work ethic and is constantly striving to improve his game, which has led him to win multiple Ballon d'Or awards and break numerous records. Additionally, Ronaldo has won multiple Champions League titles with different teams, which shows his ability to adapt and succeed in different environments. While Messi may have won more Copa America titles, Ronaldo has won the European Championship with Portugal, which is a major international tournament as well. Overall, I believe Ronaldo's athleticism, work ethic, and adaptability make him the better player.\n",
      "\n",
      "\n",
      "\n",
      "\n",
      "I can understand your point about Ronaldo's athleticism and physicality, but I still believe that Messi is the better player. Messi's technical skills are unmatched, and he has the ability to create opportunities for himself and his teammates with his incredible dribbling and passing abilities. Messi has also won numerous individual awards, including seven Ballon d'Or titles, which is more than any other player in history. While Ronaldo has won multiple Champions League titles with different teams, Messi has consistently led Barcelona to success in both domestic and international competitions. Messi has won four Champions League titles with Barcelona and has also led Argentina to the final of the World Cup. Overall, I believe Messi's technical skills and ability to consistently perform at the highest level make him the better player.\n",
      "\n",
      "\n",
      "\n",
      "\n"
     ]
    }
   ],
   "source": [
    "chain = LLMChain(llm=chat, prompt=chat_prompt)\n",
    "\n",
    "b = \"ronaldo is just better.\"\n",
    "for x in range(4):\n",
    "    print(b)\n",
    "    time.sleep(30)\n",
    "    print(\"\\n\\n\\n\")\n",
    "    a = chain.run(input1=\"messi\",input2=\"ronaldo\", text=b)\n",
    "    print(a)\n",
    "    time.sleep(30)\n",
    "    print(\"\\n\\n\\n\")\n",
    "    b = chain.run(input1=\"ronaldo\",input2=\"messi\", text=a)"
   ]
  },
  {
   "attachments": {},
   "cell_type": "markdown",
   "metadata": {},
   "source": [
    "### Given Prompt\n",
    "\n",
    " prompt = I want you to debate with me. You are a in favour of {input1} and disfavour of  {input2}. \n",
    "          I am in favour of {input2} and disfavour of  {input1}. I will start the debate.You have to counter the points and make the reply not too long. We should reach a final agreement. You can change your initial opinions if you think my counters are valid. Dont hesitate to change your opinion\n",
    "\n",
    "Output1 = Messi\n",
    "Output2 - Ronaldo\n",
    "\n",
    "\n",
    "\n",
    "### Improvement\n",
    "This makes the agent's reply more human like and convincing. This prompt makes this agent a bit looser on their opinion and ready to change it.\n"
   ]
  }
 ],
 "metadata": {
  "kernelspec": {
   "display_name": "Python 3",
   "language": "python",
   "name": "python3"
  },
  "language_info": {
   "codemirror_mode": {
    "name": "ipython",
    "version": 3
   },
   "file_extension": ".py",
   "mimetype": "text/x-python",
   "name": "python",
   "nbconvert_exporter": "python",
   "pygments_lexer": "ipython3",
   "version": "3.9.6"
  },
  "orig_nbformat": 4
 },
 "nbformat": 4,
 "nbformat_minor": 2
}
