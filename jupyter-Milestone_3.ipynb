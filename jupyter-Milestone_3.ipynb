{
 "cells": [
  {
   "attachments": {},
   "cell_type": "markdown",
   "metadata": {},
   "source": [
    "# Milestone 3"
   ]
  },
  {
   "attachments": {},
   "cell_type": "markdown",
   "metadata": {},
   "source": [
    "### import and all prerequisite"
   ]
  },
  {
   "cell_type": "code",
   "execution_count": 2,
   "metadata": {},
   "outputs": [],
   "source": [
    "import os\n",
    "import openai\n",
    "import time\n",
    "\n",
    "from langchain.chat_models import ChatOpenAI\n",
    "from langchain import PromptTemplate, LLMChain\n",
    "from langchain.prompts.chat import (\n",
    "    ChatPromptTemplate,\n",
    "    SystemMessagePromptTemplate,\n",
    "    AIMessagePromptTemplate,\n",
    "    HumanMessagePromptTemplate,\n",
    ")\n",
    "from langchain.schema import (\n",
    "    AIMessage,\n",
    "    HumanMessage,\n",
    "    SystemMessage\n",
    ")\n",
    "\n",
    "chat = ChatOpenAI(temperature=0.5)"
   ]
  },
  {
   "attachments": {},
   "cell_type": "markdown",
   "metadata": {},
   "source": [
    "### Prompt Template"
   ]
  },
  {
   "cell_type": "code",
   "execution_count": 3,
   "metadata": {},
   "outputs": [],
   "source": [
    "template=\"You are a in favour of {input1} and disfavour of  {input2}. I am in favour of {input2} and disfavour of  {input1}. Convince me why i am wrong.\"\n",
    "system_message_prompt = SystemMessagePromptTemplate.from_template(template)\n",
    "human_template=\"{text}\"\n",
    "human_message_prompt = HumanMessagePromptTemplate.from_template(human_template)\n",
    "\n",
    "chat_prompt = ChatPromptTemplate.from_messages([system_message_prompt, human_message_prompt])"
   ]
  },
  {
   "cell_type": "code",
   "execution_count": 9,
   "metadata": {},
   "outputs": [
    {
     "name": "stdout",
     "output_type": "stream",
     "text": [
      "ronaldo is just better.\n",
      "\n",
      "\n",
      "\n",
      "\n",
      "I understand that you believe Ronaldo is better than Messi, but I would like to provide some counterarguments to your statement. Firstly, while Ronaldo is undoubtedly an incredible athlete, Messi's technical skills and ability to control the ball are unparalleled. Messi is known for his creativity on the field, his ability to dribble past defenders, and his incredible vision in passing the ball to his teammates.\n",
      "\n",
      "Secondly, Messi has consistently performed at a high level for his club and country, winning numerous awards and breaking multiple records. He has won the Ballon d'Or award (awarded to the best player in the world) six times, more than any other player in history. He has also won the European Golden Shoe (awarded to the top goal scorer in Europe) six times, again more than any other player in history.\n",
      "\n",
      "Finally, Messi has shown his loyalty to his club, Barcelona, throughout his career, while Ronaldo has played for multiple clubs, including Real Madrid and Juventus. While Ronaldo has also achieved great success, it can be argued that Messi's contributions to the sport and his team are more significant.\n",
      "\n",
      "In conclusion, while Ronaldo is an incredible athlete, Messi's technical skills, consistency, and loyalty to his club make him a better player overall.\n",
      "\n",
      "\n",
      "\n",
      "\n",
      "Additionally, it's important to note that football is a team sport and individual success cannot be solely attributed to one player. Messi has been able to elevate the performance of his teammates and lead Barcelona to numerous victories, both domestically and internationally. His ability to create opportunities for his teammates and work well within a team dynamic is a testament to his leadership skills and overall impact on the sport.\n",
      "\n",
      "Furthermore, Messi's humility and sportsmanship on and off the field are qualities that make him a role model for aspiring footballers around the world. He has used his platform to advocate for social justice issues and has shown a willingness to give back to his community through various charitable initiatives.\n",
      "\n",
      "Ultimately, while personal preferences may vary, the evidence suggests that Messi's contributions to the sport and his team make him a better player than Ronaldo.\n",
      "\n",
      "\n",
      "\n",
      "\n",
      "On the other hand, while Ronaldo is undoubtedly a talented player, his focus on individual success often comes at the expense of his team. He has been criticized for his selfish play and lack of teamwork, which has led to tensions with his teammates and coaches.\n",
      "\n",
      "Furthermore, Ronaldo's behavior on and off the field has been questionable at times. He has been involved in several controversies, including allegations of tax fraud and sexual assault. While he has denied these allegations, they have raised concerns about his character and integrity as a role model for young fans.\n",
      "\n",
      "Overall, while Ronaldo may have impressive individual statistics, his lack of team spirit and questionable behavior make him a less admirable player than Messi. Messi's leadership, humility, and positive impact on the sport and his community make him a better choice for a favorite player.\n",
      "\n",
      "\n",
      "\n",
      "\n",
      "I understand that you have a preference for Messi as a player, but I respectfully disagree with your opinion. While it is true that Messi is a talented player with impressive skills, he has not always been successful in leading his team to victory in major tournaments such as the World Cup.\n",
      "\n",
      "In contrast, Ronaldo has proven time and again that he is a leader on the field who can inspire his team to victory. He has won numerous championships with both his club and his country and has been recognized as one of the greatest players of all time.\n",
      "\n",
      "Moreover, Ronaldo's dedication to his craft and his relentless work ethic are truly admirable. He is constantly striving to improve his game and push himself to new heights, which is a testament to his commitment to excellence.\n",
      "\n",
      "In conclusion, while I respect your opinion, I believe that Ronaldo is a superior player to Messi in terms of his leadership, work ethic, and overall impact on the sport.\n",
      "\n",
      "\n",
      "\n",
      "\n",
      "I can understand your perspective, but I would like to counter your argument with a few points. \n",
      "\n",
      "Firstly, while it is true that Messi has not always been successful in leading his team to victory in major tournaments, it is important to note that football is a team sport and no player can win a tournament alone. Messi has consistently performed at the highest level for his club and has won numerous titles, including 10 La Liga titles and 4 Champions League titles. \n",
      "\n",
      "Secondly, while Ronaldo is undoubtedly a talented player, his style of play is often criticized for being too individualistic and not conducive to team play. In contrast, Messi is known for his ability to create opportunities for his teammates and make them better players. \n",
      "\n",
      "Lastly, while Ronaldo's work ethic is commendable, Messi's natural talent and creativity on the field cannot be denied. He has been recognized as the best player in the world a record 7 times, and his ability to dribble past defenders and score goals in seemingly impossible situations is unmatched. \n",
      "\n",
      "In conclusion, while Ronaldo is a great player, I believe that Messi's natural talent, creativity, and ability to make his teammates better make him the superior player.\n",
      "\n",
      "\n",
      "\n",
      "\n",
      "Additionally, Messi's impact on the game goes beyond just his individual performance. He has been instrumental in the success of Barcelona's youth academy, La Masia, and has helped develop some of the world's best young talents. His influence on the game has inspired countless young players around the world to pursue their dreams of becoming professional footballers.\n",
      "\n",
      "Furthermore, Messi's humility and sportsmanship on and off the field sets him apart from other players. He is known for his charitable work and has used his platform to raise awareness for important social causes.\n",
      "\n",
      "In contrast, Ronaldo has been criticized for his arrogance and diva-like behavior. He has been involved in multiple controversies, including tax evasion and sexual assault allegations.\n",
      "\n",
      "Overall, while both players are incredibly talented, Messi's impact on the game, his humility, and his sportsmanship make him the better choice.\n",
      "\n",
      "\n",
      "\n",
      "\n",
      "Moreover, Messi's style of play is more team-oriented and he prioritizes the success of his team over his individual achievements. He is known for his exceptional passing and vision on the field, which allows him to create countless scoring opportunities for his teammates.\n",
      "\n",
      "On the other hand, Ronaldo is often criticized for being too focused on his personal goals and not contributing enough to his team's overall success. He is known for his individualistic style of play and is often seen taking shots from difficult angles instead of passing to a teammate in a better position.\n",
      "\n",
      "In conclusion, while both players have their strengths and weaknesses, Messi's impact on the game, his humility, and his team-oriented style of play make him the better choice. Ronaldo may have more individual accolades, but Messi's contributions to his team and the sport as a whole cannot be overlooked.\n",
      "\n",
      "\n",
      "\n",
      "\n"
     ]
    }
   ],
   "source": [
    "chain = LLMChain(llm=chat, prompt=chat_prompt)\n",
    "\n",
    "b = \"ronaldo is just better.\"\n",
    "for x in range(4):\n",
    "    print(b)\n",
    "    time.sleep(30)\n",
    "    print(\"\\n\\n\\n\")\n",
    "    a = chain.run(input1=\"messi\",input2=\"ronaldo\", text=b)\n",
    "    print(a)\n",
    "    time.sleep(30)\n",
    "    print(\"\\n\\n\\n\")\n",
    "    b = chain.run(input1=\"ronaldo\",input2=\"messi\", text=a)"
   ]
  },
  {
   "attachments": {},
   "cell_type": "markdown",
   "metadata": {},
   "source": [
    "### Given Prompt\n",
    "\n",
    " prompt = I want you to debate with me. You are a in favour of {input1} and disfavour of  {input2}. \n",
    "          I am in favour of {input2} and disfavour of  {input1}. I will start the debate.\n",
    "\n",
    "Output1 = Messi\n",
    "Output2 - Ronaldo"
   ]
  }
 ],
 "metadata": {
  "kernelspec": {
   "display_name": "Python 3",
   "language": "python",
   "name": "python3"
  },
  "language_info": {
   "codemirror_mode": {
    "name": "ipython",
    "version": 3
   },
   "file_extension": ".py",
   "mimetype": "text/x-python",
   "name": "python",
   "nbconvert_exporter": "python",
   "pygments_lexer": "ipython3",
   "version": "3.9.6"
  },
  "orig_nbformat": 4
 },
 "nbformat": 4,
 "nbformat_minor": 2
}
