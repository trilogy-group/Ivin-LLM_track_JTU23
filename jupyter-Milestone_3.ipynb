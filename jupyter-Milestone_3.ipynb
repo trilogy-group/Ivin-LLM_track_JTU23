{
 "cells": [
  {
   "attachments": {},
   "cell_type": "markdown",
   "metadata": {},
   "source": [
    "# Milestone 3"
   ]
  },
  {
   "attachments": {},
   "cell_type": "markdown",
   "metadata": {},
   "source": [
    "### import and all prerequisite"
   ]
  },
  {
   "cell_type": "code",
   "execution_count": 10,
   "metadata": {},
   "outputs": [],
   "source": [
    "import os\n",
    "import openai\n",
    "import time\n",
    "\n",
    "from langchain.chat_models import ChatOpenAI\n",
    "from langchain import PromptTemplate, LLMChain\n",
    "from langchain.prompts.chat import (\n",
    "    ChatPromptTemplate,\n",
    "    SystemMessagePromptTemplate,\n",
    "    AIMessagePromptTemplate,\n",
    "    HumanMessagePromptTemplate,\n",
    ")\n",
    "from langchain.schema import (\n",
    "    AIMessage,\n",
    "    HumanMessage,\n",
    "    SystemMessage\n",
    ")\n",
    "\n",
    "chat = ChatOpenAI(temperature=0.5)"
   ]
  },
  {
   "attachments": {},
   "cell_type": "markdown",
   "metadata": {},
   "source": [
    "### Prompt Template"
   ]
  },
  {
   "cell_type": "code",
   "execution_count": 11,
   "metadata": {},
   "outputs": [],
   "source": [
    "template=\"I want you to debate with me. You are a in favour of {input1} and disfavour of  {input2}. I am in favour of {input2} and disfavour of  {input1}. I will start the debate. You have to counter the points and make the reply not too long.\"\n",
    "system_message_prompt = SystemMessagePromptTemplate.from_template(template)\n",
    "human_template=\"{text}\"\n",
    "human_message_prompt = HumanMessagePromptTemplate.from_template(human_template)\n",
    "\n",
    "chat_prompt = ChatPromptTemplate.from_messages([system_message_prompt, human_message_prompt])"
   ]
  },
  {
   "cell_type": "code",
   "execution_count": 12,
   "metadata": {},
   "outputs": [
    {
     "name": "stdout",
     "output_type": "stream",
     "text": [
      "ronaldo is just better.\n",
      "\n",
      "\n",
      "\n",
      "\n",
      "I disagree. Messi has better technical skills and is a more creative player. He can dribble past defenders effortlessly and has an incredible vision for passing. Ronaldo, on the other hand, relies more on his physicality and athleticism to overpower opponents. While he is undoubtedly a great player, Messi's finesse and creativity make him a more valuable asset to any team.\n",
      "\n",
      "\n",
      "\n",
      "\n",
      "I understand your point of view, but I believe that Ronaldo's physicality and athleticism are what make him stand out from Messi. Ronaldo has an incredible work ethic and has consistently shown that he can adapt to different playing styles and positions. He has also proven himself to be a prolific goal scorer, with a record of 760 goals in his career, which is more than Messi's 715 goals. Ronaldo's ability to score goals from any position on the field, whether it's with his head or his feet, is unmatched by Messi. Additionally, Ronaldo has won more international titles than Messi, including the UEFA European Championship and the UEFA Nations League with Portugal, while Messi has yet to win a major international tournament with Argentina.\n",
      "\n",
      "\n",
      "\n",
      "\n",
      "While I agree that Ronaldo's physicality and athleticism are impressive, I believe that Messi's technical ability and creativity on the field make him a superior player. Messi has an incredible control over the ball, and his dribbling skills are unmatched. He has a unique ability to read the game and make split-second decisions, which often results in him creating scoring opportunities for himself and his teammates. Messi also has a higher number of assists than Ronaldo, which shows that he is not only a goal scorer but also a team player. Additionally, Messi has won more Ballon d'Or awards than Ronaldo, which is a testament to his consistent excellence over the years. While Ronaldo has won more international titles, it is important to note that football is a team sport, and winning international titles is not solely dependent on one player's performance.\n",
      "\n",
      "\n",
      "\n",
      "\n",
      "I understand your points about Messi's technical ability and creativity on the field, but I disagree that it makes him a superior player to Ronaldo. Ronaldo's physicality and athleticism allow him to dominate in the air and score goals from headers, which is a skill that Messi does not possess. Ronaldo is also known for his powerful shots from long range, which often result in spectacular goals. While Messi may have more assists, Ronaldo's goal-scoring record is unmatched, with him being the all-time top scorer in the UEFA Champions League and the European Championship. Ronaldo's ability to perform in big games and on the international stage cannot be ignored, as he has led his teams to victory in major tournaments. Overall, I believe that Ronaldo's combination of physicality and skill make him a more complete player than Messi.\n",
      "\n",
      "\n",
      "\n",
      "\n",
      "I see your point about Ronaldo's physicality, but I believe that Messi's technical ability and creativity make him a better player overall. Messi's dribbling skills and ability to create chances for his teammates are unparalleled, and his vision on the field allows him to make split-second decisions that lead to goals. While Ronaldo may have more goals overall, Messi has a higher goals-per-game ratio and has won more Ballon d'Or awards, which is a testament to his consistent excellence over the years. Additionally, Messi's ability to play in different positions on the field, including as a false nine or attacking midfielder, shows his versatility and adaptability. Overall, I believe that Messi's technical ability and creativity make him a more valuable player than Ronaldo.\n",
      "\n",
      "\n",
      "\n",
      "\n",
      "I understand your point about Messi's technical ability and creativity, but I believe that Ronaldo's work ethic and determination make him a better player overall. Ronaldo's dedication to training and his desire to constantly improve his game have led him to become one of the best players in the world. His physicality allows him to dominate in the air and his powerful shots from distance are a threat to any goalkeeper. While Messi may have a higher goals-per-game ratio, Ronaldo has consistently scored over 50 goals per season for the past decade, which is a remarkable achievement. Additionally, Ronaldo's success in different leagues and with different teams, including winning the UEFA Champions League with three different teams, shows his ability to adapt and perform at the highest level. Overall, I believe that Ronaldo's work ethic and determination make him a more valuable player than Messi.\n",
      "\n",
      "\n",
      "\n",
      "\n",
      "I understand your point about Ronaldo's work ethic and determination, but I believe that Messi's natural talent and creativity make him a better player overall. Messi's ability to dribble past multiple defenders and create scoring opportunities out of nothing is unparalleled. His vision and passing ability are also exceptional, as he consistently sets up his teammates for goals. While Ronaldo may have a higher goal-scoring record, Messi has consistently been a more effective playmaker, with more assists and key passes per game. Messi's success with Barcelona, including winning the UEFA Champions League four times, shows his ability to consistently perform at the highest level with one team. Additionally, Messi's success with the Argentine national team, including leading them to the 2014 World Cup final, shows his ability to perform on the international stage. Overall, I believe that Messi's natural talent and creativity make him a more valuable player than Ronaldo.\n",
      "\n",
      "\n",
      "\n",
      "\n"
     ]
    }
   ],
   "source": [
    "chain = LLMChain(llm=chat, prompt=chat_prompt)\n",
    "\n",
    "b = \"ronaldo is just better.\"\n",
    "for x in range(4):\n",
    "    print(b)\n",
    "    time.sleep(30)\n",
    "    print(\"\\n\\n\\n\")\n",
    "    a = chain.run(input1=\"messi\",input2=\"ronaldo\", text=b)\n",
    "    print(a)\n",
    "    time.sleep(30)\n",
    "    print(\"\\n\\n\\n\")\n",
    "    b = chain.run(input1=\"ronaldo\",input2=\"messi\", text=a)"
   ]
  },
  {
   "attachments": {},
   "cell_type": "markdown",
   "metadata": {},
   "source": [
    "### Given Prompt\n",
    "\n",
    " prompt = I want you to debate with me. You are a in favour of {input1} and disfavour of  {input2}. \n",
    "          I am in favour of {input2} and disfavour of  {input1}. I will start the debate.You have to counter the points and make the reply not too long.\n",
    "\n",
    "Output1 = Messi\n",
    "Output2 - Ronaldo\n",
    "\n",
    "\n",
    "\n",
    "### Improvement\n",
    "This makes the agent's reply more human like and convincing."
   ]
  }
 ],
 "metadata": {
  "kernelspec": {
   "display_name": "Python 3",
   "language": "python",
   "name": "python3"
  },
  "language_info": {
   "codemirror_mode": {
    "name": "ipython",
    "version": 3
   },
   "file_extension": ".py",
   "mimetype": "text/x-python",
   "name": "python",
   "nbconvert_exporter": "python",
   "pygments_lexer": "ipython3",
   "version": "3.9.6"
  },
  "orig_nbformat": 4
 },
 "nbformat": 4,
 "nbformat_minor": 2
}
